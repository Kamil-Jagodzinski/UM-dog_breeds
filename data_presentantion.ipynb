{
 "cells": [
  {
   "cell_type": "code",
   "execution_count": 1,
   "metadata": {},
   "outputs": [],
   "source": [
    "import os\n",
    "import random\n",
    "import matplotlib.pyplot as plt\n",
    "import matplotlib.image as mpimg"
   ]
  },
  {
   "cell_type": "code",
   "execution_count": 11,
   "metadata": {},
   "outputs": [],
   "source": [
    "folder_train = 'train'\n",
    "folder_validation = 'validation'\n",
    "folder_test = 'test'\n",
    "\n",
    "num_train_images = 7\n",
    "num_val_images = 4\n",
    "num_test_images = 4\n",
    "\n",
    "def get_images_path(folder, breed, num_images):\n",
    "    breed_folder = os.path.join(folder, breed)\n",
    "    files = os.listdir(breed_folder)\n",
    "    random.shuffle(files)\n",
    "    random_images = files[:num_images]\n",
    "    out = []\n",
    "    for i in range(num_images):\n",
    "        img_path = os.path.join(breed_folder, random_images[i])\n",
    "        out.append(img_path)\n",
    "    return out\n",
    "\n",
    "def plot_images( random_images, breed ):\n",
    "    plt.figure(figsize=(12, 6))\n",
    "    plt.suptitle(f\"{breed}\", fontsize=16)\n",
    "    \n",
    "    for i in range(15):\n",
    "        img_path = random_images[i]\n",
    "        img = mpimg.imread(img_path)\n",
    "        plt.subplot(3, 5, i+1)\n",
    "        plt.imshow(img)\n",
    "        plt.axis('off')\n",
    "\n",
    "    plt.show()\n"
   ]
  },
  {
   "cell_type": "code",
   "execution_count": null,
   "metadata": {},
   "outputs": [],
   "source": [
    "breed_list = os.listdir(folder_train)\n",
    "\n",
    "for breed in breed_list:\n",
    "    images = get_images_path(folder_train, breed, num_train_images)\n",
    "    images += get_images_path(folder_validation, breed, num_val_images)\n",
    "    images += get_images_path(folder_test, breed, num_test_images)\n",
    "    plot_images(images, breed)"
   ]
  }
 ],
 "metadata": {
  "kernelspec": {
   "display_name": "Python 3",
   "language": "python",
   "name": "python3"
  },
  "language_info": {
   "codemirror_mode": {
    "name": "ipython",
    "version": 3
   },
   "file_extension": ".py",
   "mimetype": "text/x-python",
   "name": "python",
   "nbconvert_exporter": "python",
   "pygments_lexer": "ipython3",
   "version": "3.11.0"
  },
  "orig_nbformat": 4
 },
 "nbformat": 4,
 "nbformat_minor": 2
}
